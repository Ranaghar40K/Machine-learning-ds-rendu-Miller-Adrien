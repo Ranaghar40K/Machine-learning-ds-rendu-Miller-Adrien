{
 "cells": [
  {
   "cell_type": "code",
   "execution_count": null,
   "metadata": {},
   "outputs": [
    {
     "name": "stdout",
     "output_type": "stream",
     "text": [
      "                 Date  Temperature  Precipitation  Humidity   Latitude  \\\n",
      "0 2023-01-02 08:00:00          9.7              0      40.5  31.051307   \n",
      "1 2023-01-02 14:00:00          9.2             10      63.1 -10.336078   \n",
      "2 2023-01-02 23:00:00          8.4             15      33.9  52.667066   \n",
      "3 2023-01-04 02:00:00         10.9              0      57.1 -21.988942   \n",
      "4 2023-01-04 05:00:00         10.7              0      50.3   7.253376   \n",
      "\n",
      "    Longitude  Temperature_F  Is_Hot  Temp_Fahrenheit  \n",
      "0  118.643699          49.46       0            49.46  \n",
      "1  111.846085          48.56       0            48.56  \n",
      "2   52.461016          47.12       0            47.12  \n",
      "3  -41.021663          51.62       0            51.62  \n",
      "4 -147.686580          51.26       0            51.26  \n"
     ]
    }
   ],
   "source": [
    "import pandas as pd\n",
    "import numpy as np\n",
    "import matplotlib.pyplot as plt\n",
    "import seaborn as sns\n",
    "import plotly.express as px\n",
    "\n",
    "\n",
    "sns.set(style=\"whitegrid\")\n",
    "\n",
    "# Charger le dataset\n",
    "data = pd.read_csv(\"weather_data_transformed.csv\")\n",
    "\n",
    "# Aff les 5 premières lignes du dataset\n",
    "data['Date'] = pd.to_datetime(data['Date'])\n",
    "\n",
    "\n",
    "print(data.head())"
   ]
  },
  {
   "cell_type": "code",
   "execution_count": null,
   "metadata": {},
   "outputs": [
    {
     "name": "stdout",
     "output_type": "stream",
     "text": [
      "    Month  Temperature  Precipitation   Humidity\n",
      "0       1    13.701429            180  54.397143\n",
      "1       2    20.898649            220  65.025676\n",
      "2       3    24.832927            125  69.276829\n",
      "3       4    24.568966            105  67.949425\n",
      "4       5    20.482022            140  66.176404\n",
      "5       6    14.524051            145  53.120253\n",
      "6       7     6.250602            130  45.961446\n",
      "7       8    -0.787000            210  37.490000\n",
      "8       9    -4.782051            105  34.301282\n",
      "9      10    -4.322785            160  35.282278\n",
      "10     11    -0.522222            195  38.168889\n",
      "11     12     6.380899            125  44.075281\n"
     ]
    }
   ],
   "source": [
    "# Extraire le mois de la date\n",
    "data['Month'] = data['Date'].dt.month\n",
    "\n",
    "# calcule les moyennes de température, d'humidité et de précipitation par mois\n",
    "monthly_data = data.groupby('Month').agg({\n",
    "    'Temperature': 'mean',\n",
    "    'Precipitation': 'sum',\n",
    "    'Humidity': 'mean'\n",
    "}).reset_index()\n",
    "\n",
    "# Affiche les données mensuelles\n",
    "print(monthly_data)"
   ]
  },
  {
   "cell_type": "code",
   "execution_count": null,
   "metadata": {},
   "outputs": [],
   "source": [
    "#  reponse :les mois avec les precipitation les plus les plus élevées sont fevrier et aout\n",
    "# l'ete est plus humide que l'hiver"
   ]
  },
  {
   "cell_type": "code",
   "execution_count": null,
   "metadata": {},
   "outputs": [],
   "source": []
  },
  {
   "cell_type": "code",
   "execution_count": null,
   "metadata": {},
   "outputs": [],
   "source": [
    "#   Visualisation des données mensuelles\n",
    "plt.figure(figsize=(10,6))\n",
    "plt.plot(monthly_data['Month'], monthly_data['Temperature'], marker='o', linestyle='-', color='orange')\n",
    "\n",
    "# Ajouter les précipitations\n",
    "plt.title('Température Moyenne Mensuelle', fontsize=16)\n",
    "plt.xlabel('Mois', fontsize=14)\n",
    "plt.ylabel('Température Moyenne (°C)', fontsize=14)\n",
    "plt.xticks(monthly_data['Month'])\n",
    "plt.grid(True)\n",
    "plt.show()"
   ]
  },
  {
   "cell_type": "code",
   "execution_count": null,
   "metadata": {},
   "outputs": [],
   "source": [
    "# c'est en mars que la temperture est la plus élevée\n",
    "# la temrature saisoniere semble se decaler de 2 mois par rapport a la france "
   ]
  },
  {
   "cell_type": "code",
   "execution_count": null,
   "metadata": {},
   "outputs": [],
   "source": [
    "# Créer une histogramme des précipitations totales par mois\n",
    "plt.figure(figsize=(10,6))\n",
    "bars = plt.bar(monthly_data['Month'], monthly_data['Precipitation'], color='blue', edgecolor='black')\n",
    "\n",
    "\n",
    "plt.title('Précipitations Totales Mensuelles', fontsize=14)\n",
    "plt.xlabel('Mois', fontsize=12)\n",
    "plt.ylabel('Précipitations Totales (mm)', fontsize=12)\n",
    "plt.xticks(monthly_data['Month'])\n",
    "plt.grid(axis='y')\n",
    "\n",
    "# Colorer les barres en fonction du niveau de précipitation\n",
    "for bar, precip in zip(bars, monthly_data['Precipitation']):\n",
    "    if precip > monthly_data['Precipitation'].mean():\n",
    "        bar.set_color('blue')\n",
    "    else:\n",
    "        bar.set_color('lightblue')\n",
    "\n",
    "plt.show()"
   ]
  },
  {
   "cell_type": "code",
   "execution_count": null,
   "metadata": {},
   "outputs": [],
   "source": [
    "# les precipitation sont plus elevees en fevrier et aout\n",
    "# il en semble pas y avoir de correlation entre la temperature et les precipitation"
   ]
  },
  {
   "cell_type": "code",
   "execution_count": null,
   "metadata": {},
   "outputs": [],
   "source": []
  },
  {
   "cell_type": "code",
   "execution_count": null,
   "metadata": {},
   "outputs": [],
   "source": [
    "import plotly.graph_objs as go\n",
    "from plotly.subplots import make_subplots\n",
    "\n",
    "#  tableau de bord avec deux graphiques\n",
    "fig = make_subplots(rows=2, cols=1, shared_xaxes=True, subplot_titles=('Température Moyenne Mensuelle', 'Précipitations Totales Mensuelles'))\n",
    "\n",
    "#  courbe des températures\n",
    "fig.add_trace(\n",
    "    go.Scatter(\n",
    "        x=monthly_data['Month'],\n",
    "        y=monthly_data['Temperature'],\n",
    "        mode='lines+markers',\n",
    "        name='Température Moyenne',\n",
    "        line=dict(color='orange')\n",
    "    ),\n",
    "    row=1, col=1\n",
    ")\n",
    "\n",
    "# histogramme des précipitations\n",
    "fig.add_trace(\n",
    "    go.Bar(\n",
    "        x=monthly_data['Month'],\n",
    "        y=monthly_data['Precipitation'],\n",
    "        name='Précipitations Totales',\n",
    "        marker_color='lightblue'\n",
    "    ),\n",
    "    row=2, col=1\n",
    ")\n",
    "\n",
    "# Mettre à jour les titres et les étiquettes des axes\n",
    "fig.update_layout(\n",
    "    height=800,\n",
    "    title_text='Tableau de Bord Interactif des Tendances Climatiques Mensuelles',\n",
    "    xaxis=dict(title='Mois'),\n",
    "    xaxis2=dict(title='Mois'),\n",
    "    yaxis=dict(title='Température Moyenne (°C)'),\n",
    "    yaxis2=dict(title='Précipitations Totales (mm)')\n",
    ")\n",
    "\n",
    "#  le mode de survol\n",
    "fig.update_layout(hovermode='x unified')\n",
    "\n",
    "# Afficher le tableau de bord\n",
    "fig.show()"
   ]
  },
  {
   "cell_type": "code",
   "execution_count": null,
   "metadata": {},
   "outputs": [],
   "source": [
    "#  le mois reunissant les temperatures les plus elevees et les precipitation les plus elevees est fevrier\n",
    "#  le mois le plus sec et froid semble etre septembre"
   ]
  }
 ],
 "metadata": {
  "kernelspec": {
   "display_name": "Python 3",
   "language": "python",
   "name": "python3"
  },
  "language_info": {
   "codemirror_mode": {
    "name": "ipython",
    "version": 3
   },
   "file_extension": ".py",
   "mimetype": "text/x-python",
   "name": "python",
   "nbconvert_exporter": "python",
   "pygments_lexer": "ipython3",
   "version": "3.12.0"
  }
 },
 "nbformat": 4,
 "nbformat_minor": 2
}
